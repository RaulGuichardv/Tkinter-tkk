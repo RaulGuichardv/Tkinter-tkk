{
 "cells": [
  {
   "cell_type": "markdown",
   "metadata": {},
   "source": [
    "## Ejemplo con TTK"
   ]
  },
  {
   "cell_type": "code",
   "execution_count": null,
   "metadata": {},
   "outputs": [],
   "source": [
    "# Importamos la libreria de tkinter (tk, ttk)\n",
    "import tkinter as tk\n",
    "from tkinter import ttk\n",
    "\n",
    "# Creamos la ventana\n",
    "root = tk.Tk()\n",
    "\n",
    "# Se crea el Frame donde almacenara los widgets y se le pone un margen interno(padding)\n",
    "frm = ttk.Frame(root, padding=10)\n",
    "# grid: forma de posicionar los widgets en una cuadricula de filas y columnas \n",
    "frm.grid()\n",
    "\n",
    "----Creacion de los widgets----",
    "\n",
    "# Creamos un label con el texto \"texto de ejempolo\" y lo agregamos al frm(el Frame)\n",
    "label = ttk.Label(frm,text=\"texto de ejemplo\")\n",
    "# Definimos su posicion en la cuadricula \n",
    "label.grid(column=0, row=0)\n",
    "\n",
    "# Creamos un boton con el texto \"baton para salir\" y lo agregamos al frm(el Frame)\n",
    "# Le asignamos al boton un comando cuando este sea precionado \n",
    "button = ttk.Button(frm, text=\"boton para salir\", command=root.destroy) # root.destroy: elimina la ventana\n",
    "# Definimos su posicion en la cuadricula \n",
    "button.grid(column=0,row=1)\n",
    "\n",
    "# Inicializa un bucle de tkinter para mantener la ventana abierta y en ejecucion \n",
    "root.mainloop() "
   ]
  },
  {
   "cell_type": "markdown",
   "metadata": {},
   "source": [
    "## Ejemplo en una clase "
   ]
  },
  {
   "cell_type": "code",
   "execution_count": null,
   "metadata": {},
   "outputs": [],
   "source": [
    "# Importamos la libreria de tkinter (tk, ttk)\n",
    "import tkinter as tk\n",
    "from tkinter import ttk\n",
    "\n",
    "# Creamos la clase \"ventana\"\n",
    "class ventana:\n",
    "    # Recibiremos el root como un paramabre de la clase \n",
    "    def __init__(self, root):\n",
    "        # La definimos \n",
    "        self.root = root\n",
    "\n",
    "        # Se crea el Frame\n",
    "        self.frm = ttk.Frame(self.root, padding=10) \n",
    "        # Se define su posicion\n",
    "        self.frm.grid()\n",
    "\n",
    "        # Se crea el Label\n",
    "        self.label = ttk.Label(self.frm,text=\"texto de ejemplo\")\n",
    "        self.label.grid(column=0, row=0)\n",
    "\n",
    "        # Se crea el boton con el comando \"root.destroy\"\n",
    "        self.button = ttk.Button(self.frm, text=\"boton para salir\", command=self.root.destroy)\n",
    "        self.button.grid(column=0,row=1)\n",
    "    \n",
    "# Se crea la ventana \n",
    "root = tk.Tk()\n",
    "# Se instancia la clase ventana y se le pase el root\n",
    "app = ventana(root)\n",
    "# Iniciamos el bucle para la ventana\n",
    "root.mainloop()\n"
   ]
  },
  {
   "cell_type": "markdown",
   "metadata": {},
   "source": [
    "* Es altamente recomendable usar Programacion Orientada a Objetos(POO) con tkinter "
   ]
  }
 ],
 "metadata": {
  "kernelspec": {
   "display_name": "env",
   "language": "python",
   "name": "python3"
  },
  "language_info": {
   "codemirror_mode": {
    "name": "ipython",
    "version": 3
   },
   "file_extension": ".py",
   "mimetype": "text/x-python",
   "name": "python",
   "nbconvert_exporter": "python",
   "pygments_lexer": "ipython3",
   "version": "3.12.7"
  }
 },
 "nbformat": 4,
 "nbformat_minor": 2
}
